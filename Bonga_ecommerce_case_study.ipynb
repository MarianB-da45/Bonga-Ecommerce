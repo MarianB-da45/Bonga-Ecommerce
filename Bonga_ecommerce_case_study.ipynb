{
 "cells": [
  {
   "cell_type": "code",
   "execution_count": 9,
   "id": "b0c00eee-6edf-40f5-8134-d2ae7cc48977",
   "metadata": {},
   "outputs": [],
   "source": [
    "# installing required SQL magic packages \n",
    "#!pip install sqlachemy\n",
    "#!pip install ipython-sql\n",
    "#!pip install pymysql"
   ]
  },
  {
   "cell_type": "code",
   "execution_count": 10,
   "id": "94a9ca84-ff4f-43ba-8d3f-e5104ea1a566",
   "metadata": {},
   "outputs": [],
   "source": [
    "##import necessary libraries\n",
    "import sqlite3\n",
    "from sqlalchemy import create_engine\n",
    "import pandas as pd\n"
   ]
  },
  {
   "cell_type": "code",
   "execution_count": 11,
   "id": "dedab076-97b0-40fa-bd2d-d809fd2358c1",
   "metadata": {},
   "outputs": [
    {
     "name": "stdout",
     "output_type": "stream",
     "text": [
      "The sql extension is already loaded. To reload it, use:\n",
      "  %reload_ext sql\n"
     ]
    }
   ],
   "source": [
    "# connect to the sqlite database (it will be created since it doesn't exit)\n",
    "%load_ext sql\n",
    "\n",
    "engine = create_engine(\"sqlite:///bonga_ecommerce.db\")\n",
    "%config SQL.conn_name = 'engine'\n",
    "\n",
    "conn = sqlite3.connect(\"bonga_ecommerce.db\")\n",
    "cursor = conn.cursor()\n",
    "\n",
    "%sql sqlite:///bonga_ecommerce.db\n",
    "\n",
    "# Create table  "
   ]
  },
  {
   "cell_type": "code",
   "execution_count": 12,
   "id": "b8b84027-70cf-44db-8e9f-384e9c01e476",
   "metadata": {},
   "outputs": [
    {
     "data": {
      "text/plain": [
       "<sqlite3.Cursor at 0x1ef6fa06fc0>"
      ]
     },
     "execution_count": 12,
     "metadata": {},
     "output_type": "execute_result"
    }
   ],
   "source": [
    "# Data Definition Languages (DDL)\n",
    "# Create tables\n",
    "cursor.execute('''\n",
    "CREATE TABLE IF NOT EXISTS products(\n",
    "    product_id INTEGER PRIMARY KEY,\n",
    "    name TEXT NOT NULL,\n",
    "    price DECIMAL NOT NULL,\n",
    "    category TEXT NOT NULL\n",
    ")    \n",
    "''')\n",
    "\n",
    "\n",
    "cursor.execute('''\n",
    "CREATE TABLE IF NOT EXISTS customers(\n",
    "    customer_id INTEGER PRIMARY KEY,\n",
    "    name TEXT NOT NULL,\n",
    "    email TEXT UNIQUE NOT NULL\n",
    ")    \n",
    "''')\n",
    "\n",
    "cursor.execute('''\n",
    "CREATE TABLE IF NOT EXISTS orders(\n",
    "    order_id INTEGER PRIMARY KEY,\n",
    "    customer_id INTEGER NOT NULL,\n",
    "    order_date DATE NOT NULL,\n",
    "    FOREIGN KEY (customer_id) REFERENCES customers(customer_id)\n",
    ")    \n",
    "''')\n",
    "\n",
    "\n",
    "cursor.execute('''\n",
    "CREATE TABLE IF NOT EXISTS orderitems(\n",
    "    order_item_id INTEGER PRIMARY KEY,\n",
    "    order_id INTEGER NOT NULL,\n",
    "    product_id INTEGER NOT NULL,\n",
    "    quantity product_id NOT NULL,\n",
    "    FOREIGN KEY (order_id) REFERENCES orders(order_id),\n",
    "    FOREIGN KEY (product_id) REFERENCES products(product_id)\n",
    ")    \n",
    "''')\n",
    "\n",
    "\n",
    "\n",
    "\n",
    "\n"
   ]
  },
  {
   "cell_type": "code",
   "execution_count": null,
   "id": "dac1f01e-e5a8-4a5f-86b6-e3fde66b3189",
   "metadata": {},
   "outputs": [],
   "source": []
  },
  {
   "cell_type": "code",
   "execution_count": 13,
   "id": "a60eafbe-7ba3-476e-90d3-609a87efcb37",
   "metadata": {},
   "outputs": [
    {
     "name": "stdout",
     "output_type": "stream",
     "text": [
      " * sqlite:///bonga_ecommerce.db\n",
      "Done.\n"
     ]
    },
    {
     "data": {
      "text/html": [
       "<table>\n",
       "    <thead>\n",
       "        <tr>\n",
       "            <th>name</th>\n",
       "        </tr>\n",
       "    </thead>\n",
       "    <tbody>\n",
       "        <tr>\n",
       "            <td>customers</td>\n",
       "        </tr>\n",
       "        <tr>\n",
       "            <td>orderitems</td>\n",
       "        </tr>\n",
       "        <tr>\n",
       "            <td>orders</td>\n",
       "        </tr>\n",
       "        <tr>\n",
       "            <td>products</td>\n",
       "        </tr>\n",
       "    </tbody>\n",
       "</table>"
      ],
      "text/plain": [
       "[('customers',), ('orderitems',), ('orders',), ('products',)]"
      ]
     },
     "execution_count": 13,
     "metadata": {},
     "output_type": "execute_result"
    }
   ],
   "source": [
    "%%sql\n",
    "SELECT name FROM sqlite_master WHERE type in ('table','view') AND name NOT LIKE 'sqlite_%' ORDER BY 1"
   ]
  },
  {
   "cell_type": "code",
   "execution_count": 14,
   "id": "6704bfe3-d49f-413d-9b33-db93bb42007d",
   "metadata": {},
   "outputs": [
    {
     "data": {
      "text/plain": [
       "<sqlite3.Cursor at 0x1ef6fa06fc0>"
      ]
     },
     "execution_count": 14,
     "metadata": {},
     "output_type": "execute_result"
    }
   ],
   "source": [
    "# Drop tables\n",
    "cursor.execute('''\n",
    "DROP TABLE IF EXISTS products;\n",
    "''')\n",
    "\n",
    "cursor.execute('''\n",
    "DROP TABLE IF EXISTS customers;\n",
    "''')\n",
    "\n",
    "cursor.execute('''\n",
    "DROP TABLE IF EXISTS orders;\n",
    "''')\n",
    "\n",
    "cursor.execute('''\n",
    "DROP TABLE IF EXISTS ordersitems;\n",
    "''')"
   ]
  },
  {
   "cell_type": "code",
   "execution_count": 15,
   "id": "50e0caf1-48a5-430a-83b5-d1d8c6326a94",
   "metadata": {},
   "outputs": [],
   "source": [
    "#function to load the data into the database table\n",
    "def load_data_to_table(csv_path, table_name):\n",
    "    df = pd.read_csv(csv_path)\n",
    "    df.to_sql(table_name, conn, if_exists= 'append', index=False)"
   ]
  },
  {
   "cell_type": "code",
   "execution_count": 18,
   "id": "6d25fb36-290e-4108-b7a7-14455f041793",
   "metadata": {},
   "outputs": [],
   "source": [
    "# loading the dataset to our database table\n",
    "load_data_to_table('Products.csv', 'products')\n",
    "load_data_to_table('Customers.csv', 'customers')\n",
    "load_data_to_table('Orders.csv', 'orders')\n",
    "load_data_to_table('Order_items.csv', 'orderitems')  "
   ]
  },
  {
   "cell_type": "code",
   "execution_count": null,
   "id": "71ff1265-7f1b-4dfd-ac29-4c7c6c33b5f0",
   "metadata": {},
   "outputs": [],
   "source": []
  },
  {
   "cell_type": "code",
   "execution_count": null,
   "id": "a6c0fd53-653c-41fc-ab12-d52a9cfd97ab",
   "metadata": {},
   "outputs": [],
   "source": [
    " "
   ]
  }
 ],
 "metadata": {
  "kernelspec": {
   "display_name": "Python 3 (ipykernel)",
   "language": "python",
   "name": "python3"
  },
  "language_info": {
   "codemirror_mode": {
    "name": "ipython",
    "version": 3
   },
   "file_extension": ".py",
   "mimetype": "text/x-python",
   "name": "python",
   "nbconvert_exporter": "python",
   "pygments_lexer": "ipython3",
   "version": "3.12.4"
  }
 },
 "nbformat": 4,
 "nbformat_minor": 5
}
